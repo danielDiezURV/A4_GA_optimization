{
 "cells": [
  {
   "cell_type": "code",
   "execution_count": 1,
   "metadata": {},
   "outputs": [],
   "source": [
    "\n",
    "from matplotlib import pyplot as plt\n",
    "from TspFunctions import TspFunctions\n",
    "from MyGeneticAlgorithm import *\n",
    "import glob\n",
    "\n",
    "results = []\n",
    "####------------CONFIGURATION PARAMS --------------####\n",
    "datasets = glob.glob('test_datasets/*.tsp')\n",
    "fitnessFunctions = [fitnessFunctionEnum.INVERSE_DISTANCE]\n",
    "selectionAlgorithms = [SelectionAlgorithmEnum.ROULETTE_WHEEL]\n",
    "crossoverFunctions = [CrossoverSchemeEnum.ONE_POINT]\n",
    "populations = [10]\n",
    "generations = [100]\n",
    "mutation_rates = [0.5]\n",
    "elitism_rates = [0.1]\n",
    "########################################################\n",
    "\n",
    "for dataset in datasets:\n",
    "    tsp = TspFunctions(dataset)\n",
    "    for fitnessFunction in fitnessFunctions:\n",
    "        for selectionAlgorithm in selectionAlgorithms:\n",
    "            for crossoverFunction in crossoverFunctions:\n",
    "                ga = MyGeneticAlgorithm(fitnessFunction, selectionAlgorithm, crossoverFunction)\n",
    "\n",
    "                for population in populations:\n",
    "                    for mutation_rate in mutation_rates:\n",
    "                        for generation in generations:\n",
    "                            for elitism_rate in elitism_rates:\n",
    "                                result = ga.run(tsp, population, generation, mutation_rate, elitism_rate)\n",
    "                                print(result)\n",
    "        \n",
    "\n"
   ]
  }
 ],
 "metadata": {
  "kernelspec": {
   "display_name": "Python 3",
   "language": "python",
   "name": "python3"
  },
  "language_info": {
   "codemirror_mode": {
    "name": "ipython",
    "version": 3
   },
   "file_extension": ".py",
   "mimetype": "text/x-python",
   "name": "python",
   "nbconvert_exporter": "python",
   "pygments_lexer": "ipython3",
   "version": "3.11.7"
  }
 },
 "nbformat": 4,
 "nbformat_minor": 2
}
