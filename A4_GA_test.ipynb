{
 "cells": [
  {
   "cell_type": "code",
   "execution_count": 1,
   "metadata": {},
   "outputs": [
    {
     "ename": "KeyError",
     "evalue": "'evolution'",
     "output_type": "error",
     "traceback": [
      "\u001b[1;31m---------------------------------------------------------------------------\u001b[0m",
      "\u001b[1;31mKeyError\u001b[0m                                  Traceback (most recent call last)",
      "Cell \u001b[1;32mIn[1], line 33\u001b[0m\n\u001b[0;32m     31\u001b[0m \u001b[38;5;28;01mfor\u001b[39;00m mutation_rate \u001b[38;5;129;01min\u001b[39;00m mutation_rates:\n\u001b[0;32m     32\u001b[0m     \u001b[38;5;28;01mfor\u001b[39;00m elitism_rate \u001b[38;5;129;01min\u001b[39;00m elitism_rates:\n\u001b[1;32m---> 33\u001b[0m         result \u001b[38;5;241m=\u001b[39m \u001b[43mga\u001b[49m\u001b[38;5;241;43m.\u001b[39;49m\u001b[43mrun\u001b[49m\u001b[43m(\u001b[49m\u001b[43mtsp\u001b[49m\u001b[43m,\u001b[49m\u001b[43m \u001b[49m\u001b[43mpopulation\u001b[49m\u001b[43m,\u001b[49m\u001b[43m \u001b[49m\u001b[43mgeneration\u001b[49m\u001b[43m,\u001b[49m\u001b[43m \u001b[49m\u001b[43mmutation_rate\u001b[49m\u001b[43m,\u001b[49m\u001b[43m \u001b[49m\u001b[43melitism_rate\u001b[49m\u001b[43m)\u001b[49m\n\u001b[0;32m     34\u001b[0m         results\u001b[38;5;241m.\u001b[39mappend(result)\n\u001b[0;32m     35\u001b[0m         result \u001b[38;5;241m=\u001b[39m {\u001b[38;5;124m\"\u001b[39m\u001b[38;5;124mTest\u001b[39m\u001b[38;5;124m\"\u001b[39m:result[\u001b[38;5;124m\"\u001b[39m\u001b[38;5;124mtest\u001b[39m\u001b[38;5;124m\"\u001b[39m], \u001b[38;5;124m\"\u001b[39m\u001b[38;5;124mConfig\u001b[39m\u001b[38;5;124m\"\u001b[39m: {\u001b[38;5;124m\"\u001b[39m\u001b[38;5;124mselection\u001b[39m\u001b[38;5;124m\"\u001b[39m: selection\u001b[38;5;241m.\u001b[39mvalue, \u001b[38;5;124m\"\u001b[39m\u001b[38;5;124mcrossover\u001b[39m\u001b[38;5;124m\"\u001b[39m: crossover\u001b[38;5;241m.\u001b[39mvalue, \u001b[38;5;124m\"\u001b[39m\u001b[38;5;124mMutation\u001b[39m\u001b[38;5;124m\"\u001b[39m:mutation\u001b[38;5;241m.\u001b[39mvalue},\u001b[38;5;124m\"\u001b[39m\u001b[38;5;124mArgs\u001b[39m\u001b[38;5;124m\"\u001b[39m: \u001b[38;5;28mstr\u001b[39m(result[\u001b[38;5;124m\"\u001b[39m\u001b[38;5;124margs\u001b[39m\u001b[38;5;124m\"\u001b[39m]),\u001b[38;5;124m\"\u001b[39m\u001b[38;5;124mBestDistance\u001b[39m\u001b[38;5;124m\"\u001b[39m : \u001b[38;5;28mstr\u001b[39m(result[\u001b[38;5;124m\"\u001b[39m\u001b[38;5;124mBestResult\u001b[39m\u001b[38;5;124m\"\u001b[39m][\u001b[38;5;124m\"\u001b[39m\u001b[38;5;124mdistance\u001b[39m\u001b[38;5;124m\"\u001b[39m])}\n",
      "File \u001b[1;32mc:\\Users\\danid\\Desktop\\NEC\\A4_GA_optimization\\MyGeneticAlgorithm.py:200\u001b[0m, in \u001b[0;36mMyGeneticAlgorithm.run\u001b[1;34m(self, tsp, population, generations, mutation_rate, elitism_rate)\u001b[0m\n\u001b[0;32m    198\u001b[0m \u001b[38;5;66;03m#Evaluate fitness of all individuals in P\u001b[39;00m\n\u001b[0;32m    199\u001b[0m fitness \u001b[38;5;241m=\u001b[39m \u001b[38;5;28mself\u001b[39m\u001b[38;5;241m.\u001b[39mevaluateFitness(p)\n\u001b[1;32m--> 200\u001b[0m \u001b[43mga_logs\u001b[49m\u001b[43m[\u001b[49m\u001b[38;5;124;43m\"\u001b[39;49m\u001b[38;5;124;43mevolution\u001b[39;49m\u001b[38;5;124;43m\"\u001b[39;49m\u001b[43m]\u001b[49m\u001b[38;5;241m.\u001b[39mappend(\u001b[38;5;124m\"\u001b[39m\u001b[38;5;124m[Generation: \u001b[39m\u001b[38;5;124m\"\u001b[39m\u001b[38;5;241m+\u001b[39m \u001b[38;5;28mstr\u001b[39m(i)\u001b[38;5;241m+\u001b[39m\u001b[38;5;124m\"\u001b[39m\u001b[38;5;124m] ---> fitness: \u001b[39m\u001b[38;5;124m\"\u001b[39m\u001b[38;5;241m+\u001b[39m \u001b[38;5;28mstr\u001b[39m(\u001b[38;5;28mround\u001b[39m(\u001b[38;5;28mmax\u001b[39m(fitness), \u001b[38;5;241m6\u001b[39m)) \u001b[38;5;241m+\u001b[39m\u001b[38;5;124m\"\u001b[39m\u001b[38;5;124m --- chromosome: \u001b[39m\u001b[38;5;124m\"\u001b[39m \u001b[38;5;241m+\u001b[39m \u001b[38;5;28mstr\u001b[39m(p[fitness\u001b[38;5;241m.\u001b[39mindex(\u001b[38;5;28mmax\u001b[39m(fitness))]) \u001b[38;5;241m+\u001b[39m\u001b[38;5;124m\"\u001b[39m\u001b[38;5;124m --- distance: \u001b[39m\u001b[38;5;124m\"\u001b[39m \u001b[38;5;241m+\u001b[39m \u001b[38;5;28mstr\u001b[39m(\u001b[38;5;28mself\u001b[39m\u001b[38;5;241m.\u001b[39mtsp\u001b[38;5;241m.\u001b[39mget_total_distance(p[fitness\u001b[38;5;241m.\u001b[39mindex(\u001b[38;5;28mmax\u001b[39m(fitness))])))\n\u001b[0;32m    201\u001b[0m \u001b[38;5;66;03m#Update optimal fitness and chromosome\u001b[39;00m\n\u001b[0;32m    202\u001b[0m \u001b[38;5;28;01mif\u001b[39;00m \u001b[38;5;28mmax\u001b[39m(fitness) \u001b[38;5;241m>\u001b[39m \u001b[38;5;28mself\u001b[39m\u001b[38;5;241m.\u001b[39moptimal_fitness: \n",
      "\u001b[1;31mKeyError\u001b[0m: 'evolution'"
     ]
    }
   ],
   "source": [
    "\n",
    "from TspFunctions import TspFunctions\n",
    "from MyGeneticAlgorithm import *\n",
    "import json\n",
    "import glob\n",
    "\n",
    "results = []\n",
    "####------------CONFIGURATION PARAMS --------------####\n",
    "datasets = glob.glob('test_datasets/*.tsp')\n",
    "mutationFunctions = [MutationMethodEnum.SINGLE_NEIGHBOUR, MutationMethodEnum.SINGLE_SWAP, MutationMethodEnum.CHAIN]\n",
    "selectionAlgorithms = [SelectionAlgorithmEnum.ROULETTE_WHEEL, SelectionAlgorithmEnum.TOURNAMENT, SelectionAlgorithmEnum.RANK]\n",
    "crossoverFunctions = [CrossoverSchemeEnum.ONE_POINT, CrossoverSchemeEnum.TWO_POINT, CrossoverSchemeEnum.UNIFORM]\n",
    "\n",
    "populations = [10, 50]\n",
    "generations = [100, 250]\n",
    "mutation_rates = [0.2, 0.5]\n",
    "elitism_rates = [0.1, 0.3]                          #3x3x3x3x3x3X3 = 729 tests\n",
    "########################################################\n",
    "\n",
    "for dataset in datasets:\n",
    "    tsp = TspFunctions(dataset)\n",
    "    results = []\n",
    "    \n",
    "    with open(\"results/\"+tsp.get_name()+\".json\", 'w') as outfile:\n",
    "    \n",
    "        for selection in selectionAlgorithms:\n",
    "            for crossover in crossoverFunctions:\n",
    "                for mutation in mutationFunctions:\n",
    "                    ga = MyGeneticAlgorithm(selection, crossover, mutation)\n",
    "                    for population in populations:\n",
    "                        for generation in generations:\n",
    "                            for mutation_rate in mutation_rates:\n",
    "                                for elitism_rate in elitism_rates:\n",
    "                                    result = ga.run(tsp, population, generation, mutation_rate, elitism_rate)\n",
    "                                    results.append(result)\n",
    "                                    result = {\"Test\":result[\"Test\"], \"Config\": {\"Selection\": selection.value, \"Crossover\": crossover.value, \"Mutation\":mutation.value},\"Args\": str(result[\"Args\"]),\"BestDistance\" : str(result[\"BestResult\"][\"Distance\"])}\n",
    "                                    print(result)\n",
    "                                    json.dump(result, outfile)\n",
    "                                    outfile.write(',\\n')\n",
    "\n",
    "        best_result = max(results, key=lambda x: x[\"BestResult\"][\"Fitness\"])\n",
    "        print(\"Survival of the fittest: \\n\" + json.dumps(best_result, indent=4))\n",
    "        json.dump({\"Survival of the fittest\":best_result}, outfile, indent=4)"
   ]
  }
 ],
 "metadata": {
  "kernelspec": {
   "display_name": "Python 3",
   "language": "python",
   "name": "python3"
  },
  "language_info": {
   "codemirror_mode": {
    "name": "ipython",
    "version": 3
   },
   "file_extension": ".py",
   "mimetype": "text/x-python",
   "name": "python",
   "nbconvert_exporter": "python",
   "pygments_lexer": "ipython3",
   "version": "3.11.7"
  }
 },
 "nbformat": 4,
 "nbformat_minor": 2
}
